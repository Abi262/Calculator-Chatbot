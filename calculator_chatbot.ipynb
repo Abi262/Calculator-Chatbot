{
  "nbformat": 4,
  "nbformat_minor": 0,
  "metadata": {
    "colab": {
      "provenance": []
    },
    "kernelspec": {
      "name": "python3",
      "display_name": "Python 3"
    },
    "language_info": {
      "name": "python"
    }
  },
  "cells": [
    {
      "cell_type": "code",
      "source": [
        "import re\n",
        "import time\n",
        "\n",
        "def math_operation(operand_1, operand_2, operation):\n",
        "    if operation == 'addition':\n",
        "        return operand_1 + operand_2\n",
        "    elif operation == 'subtraction':\n",
        "        return operand_1 - operand_2\n",
        "    elif operation == 'multiplication':\n",
        "        return operand_1 * operand_2\n",
        "    elif operation == 'division':\n",
        "        return operand_1 / operand_2\n",
        "\n",
        "\n",
        "def chat():\n",
        "    print(f\"Bot: Hello there! I'm a Calculator Chatbot here to help you with all your queries.\")\n",
        "    time.sleep(1)\n",
        "    print(f\"Bot: Can I know your name please?\")\n",
        "    name = input(\"User: \").lower()\n",
        "    time.sleep(1)\n",
        "    print(f\"Bot: Nice to meet you, {name}! What mathematical operation do you want to do?\")\n",
        "    while True:\n",
        "        user_input = input(\"User: \").lower()\n",
        "        if re.search(r'add', user_input):\n",
        "            operation = 'addition'\n",
        "        elif re.search(r'subtract|subtraction', user_input):\n",
        "            operation = 'subtraction'\n",
        "        elif re.search(r'multiply|multiplication', user_input):\n",
        "            operation = 'multiplication'\n",
        "        elif re.search(r'divide|division', user_input):\n",
        "            operation = 'division'\n",
        "        else:\n",
        "            print(\"Bot: I'm sorry, Please enter the correct input.\")\n",
        "            continue\n",
        "        print(f\"Bot: What is the first operand for {operation}?\")\n",
        "        operand_1 = float(input(\"User: \"))\n",
        "        print(f\"Bot: What is the second operand for {operation}?\")\n",
        "        operand_2 = float(input(\"User: \"))\n",
        "        answer = do_operation(operand_1, operand_2, operation)\n",
        "        print(f\"Bot: The {operation} of {operand_1} and {operand_2} is {answer} :)\")\n",
        "        print(\"Bot: Do you want to perform more operations? (yes/no)\")\n",
        "        more_operations = input(\"User: \").lower()\n",
        "        if more_operations.startswith('n'):\n",
        "            print(\"Bot: Thank you for using the calculator. Have a nice day!\")\n",
        "            break\n",
        "\n",
        "if __name__ == '__main__':\n",
        "    chat()\n"
      ],
      "metadata": {
        "colab": {
          "base_uri": "https://localhost:8080/"
        },
        "id": "vy_wgJI7n5js",
        "outputId": "4ace386f-b7b6-4e80-8ba9-39e525c5e4d4"
      },
      "execution_count": 22,
      "outputs": [
        {
          "output_type": "stream",
          "name": "stdout",
          "text": [
            "Bot: Hello there! I'm a Calculator Chatbot here to help you with all your queries.\n",
            "Bot: Can I know your name please?\n",
            "User: abi\n",
            "Bot: Nice to meet you, abi! What mathematical operation do you want to do?\n",
            "User: add\n",
            "Bot: What is the first operand for addition?\n",
            "User: 40\n",
            "Bot: What is the second operand for addition?\n",
            "User: 11\n",
            "Bot: The addition of 40.0 and 11.0 is 51.0 :)\n",
            "Bot: Do you want to perform more operations? (yes/no)\n",
            "User: yes\n",
            "User: subtract\n",
            "Bot: What is the first operand for subtraction?\n",
            "User: 55\n",
            "Bot: What is the second operand for subtraction?\n",
            "User: 40\n",
            "Bot: The subtraction of 55.0 and 40.0 is 15.0 :)\n",
            "Bot: Do you want to perform more operations? (yes/no)\n",
            "User: yes\n",
            "User: multiply\n",
            "Bot: What is the first operand for multiplication?\n",
            "User: 15\n",
            "Bot: What is the second operand for multiplication?\n",
            "User: 15\n",
            "Bot: The multiplication of 15.0 and 15.0 is 225.0 :)\n",
            "Bot: Do you want to perform more operations? (yes/no)\n",
            "User: yes\n",
            "User: divide\n",
            "Bot: What is the first operand for division?\n",
            "User: 46\n",
            "Bot: What is the second operand for division?\n",
            "User: 5\n",
            "Bot: The division of 46.0 and 5.0 is 9.2 :)\n",
            "Bot: Do you want to perform more operations? (yes/no)\n",
            "User: no\n",
            "Bot: Thank you for using the calculator. Have a nice day!\n"
          ]
        }
      ]
    },
    {
      "cell_type": "code",
      "source": [],
      "metadata": {
        "id": "a7KUfy7PwEzq"
      },
      "execution_count": null,
      "outputs": []
    }
  ]
}